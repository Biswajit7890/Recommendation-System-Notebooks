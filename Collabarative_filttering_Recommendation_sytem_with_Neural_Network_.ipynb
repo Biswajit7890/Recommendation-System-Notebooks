{
  "nbformat": 4,
  "nbformat_minor": 0,
  "metadata": {
    "colab": {
      "name": "Collabarative filttering Recommendation sytem with Neural Network .ipynb",
      "provenance": [],
      "collapsed_sections": []
    },
    "kernelspec": {
      "display_name": "Python 3",
      "name": "python3"
    },
    "language_info": {
      "name": "python"
    },
    "accelerator": "GPU"
  },
  "cells": [
    {
      "cell_type": "code",
      "metadata": {
        "id": "tx6K9JDYyd0Y"
      },
      "source": [
        "%matplotlib inline\n",
        "import numpy as np\n",
        "import pandas as pd\n",
        "from sklearn.model_selection import train_test_split\n",
        "from sklearn.preprocessing import LabelEncoder"
      ],
      "execution_count": 1,
      "outputs": []
    },
    {
      "cell_type": "code",
      "metadata": {
        "colab": {
          "base_uri": "https://localhost:8080/",
          "height": 197
        },
        "id": "bZqhCTxmyd3a",
        "outputId": "b41a20bf-7fab-4bf5-afec-4eb779ad39b5"
      },
      "source": [
        "ratings = pd.read_csv( '/content/rating.csv')\n",
        "ratings.head()"
      ],
      "execution_count": 2,
      "outputs": [
        {
          "output_type": "execute_result",
          "data": {
            "text/html": [
              "<div>\n",
              "<style scoped>\n",
              "    .dataframe tbody tr th:only-of-type {\n",
              "        vertical-align: middle;\n",
              "    }\n",
              "\n",
              "    .dataframe tbody tr th {\n",
              "        vertical-align: top;\n",
              "    }\n",
              "\n",
              "    .dataframe thead th {\n",
              "        text-align: right;\n",
              "    }\n",
              "</style>\n",
              "<table border=\"1\" class=\"dataframe\">\n",
              "  <thead>\n",
              "    <tr style=\"text-align: right;\">\n",
              "      <th></th>\n",
              "      <th>userId</th>\n",
              "      <th>movieId</th>\n",
              "      <th>rating</th>\n",
              "      <th>timestamp</th>\n",
              "    </tr>\n",
              "  </thead>\n",
              "  <tbody>\n",
              "    <tr>\n",
              "      <th>0</th>\n",
              "      <td>1</td>\n",
              "      <td>2</td>\n",
              "      <td>3.5</td>\n",
              "      <td>2005-04-02 23:53:47</td>\n",
              "    </tr>\n",
              "    <tr>\n",
              "      <th>1</th>\n",
              "      <td>1</td>\n",
              "      <td>29</td>\n",
              "      <td>3.5</td>\n",
              "      <td>2005-04-02 23:31:16</td>\n",
              "    </tr>\n",
              "    <tr>\n",
              "      <th>2</th>\n",
              "      <td>1</td>\n",
              "      <td>32</td>\n",
              "      <td>3.5</td>\n",
              "      <td>2005-04-02 23:33:39</td>\n",
              "    </tr>\n",
              "    <tr>\n",
              "      <th>3</th>\n",
              "      <td>1</td>\n",
              "      <td>47</td>\n",
              "      <td>3.5</td>\n",
              "      <td>2005-04-02 23:32:07</td>\n",
              "    </tr>\n",
              "    <tr>\n",
              "      <th>4</th>\n",
              "      <td>1</td>\n",
              "      <td>50</td>\n",
              "      <td>3.5</td>\n",
              "      <td>2005-04-02 23:29:40</td>\n",
              "    </tr>\n",
              "  </tbody>\n",
              "</table>\n",
              "</div>"
            ],
            "text/plain": [
              "   userId  movieId  rating            timestamp\n",
              "0       1        2     3.5  2005-04-02 23:53:47\n",
              "1       1       29     3.5  2005-04-02 23:31:16\n",
              "2       1       32     3.5  2005-04-02 23:33:39\n",
              "3       1       47     3.5  2005-04-02 23:32:07\n",
              "4       1       50     3.5  2005-04-02 23:29:40"
            ]
          },
          "metadata": {
            "tags": []
          },
          "execution_count": 2
        }
      ]
    },
    {
      "cell_type": "code",
      "metadata": {
        "colab": {
          "base_uri": "https://localhost:8080/",
          "height": 197
        },
        "id": "0ui7DxKQyd6o",
        "outputId": "fbba32f7-e366-457d-f958-c023c9cdfe12"
      },
      "source": [
        "movies = pd.read_csv('/content/movie.csv')\n",
        "movies.head()"
      ],
      "execution_count": 3,
      "outputs": [
        {
          "output_type": "execute_result",
          "data": {
            "text/html": [
              "<div>\n",
              "<style scoped>\n",
              "    .dataframe tbody tr th:only-of-type {\n",
              "        vertical-align: middle;\n",
              "    }\n",
              "\n",
              "    .dataframe tbody tr th {\n",
              "        vertical-align: top;\n",
              "    }\n",
              "\n",
              "    .dataframe thead th {\n",
              "        text-align: right;\n",
              "    }\n",
              "</style>\n",
              "<table border=\"1\" class=\"dataframe\">\n",
              "  <thead>\n",
              "    <tr style=\"text-align: right;\">\n",
              "      <th></th>\n",
              "      <th>movieId</th>\n",
              "      <th>title</th>\n",
              "      <th>genres</th>\n",
              "    </tr>\n",
              "  </thead>\n",
              "  <tbody>\n",
              "    <tr>\n",
              "      <th>0</th>\n",
              "      <td>1</td>\n",
              "      <td>Toy Story (1995)</td>\n",
              "      <td>Adventure|Animation|Children|Comedy|Fantasy</td>\n",
              "    </tr>\n",
              "    <tr>\n",
              "      <th>1</th>\n",
              "      <td>2</td>\n",
              "      <td>Jumanji (1995)</td>\n",
              "      <td>Adventure|Children|Fantasy</td>\n",
              "    </tr>\n",
              "    <tr>\n",
              "      <th>2</th>\n",
              "      <td>3</td>\n",
              "      <td>Grumpier Old Men (1995)</td>\n",
              "      <td>Comedy|Romance</td>\n",
              "    </tr>\n",
              "    <tr>\n",
              "      <th>3</th>\n",
              "      <td>4</td>\n",
              "      <td>Waiting to Exhale (1995)</td>\n",
              "      <td>Comedy|Drama|Romance</td>\n",
              "    </tr>\n",
              "    <tr>\n",
              "      <th>4</th>\n",
              "      <td>5</td>\n",
              "      <td>Father of the Bride Part II (1995)</td>\n",
              "      <td>Comedy</td>\n",
              "    </tr>\n",
              "  </tbody>\n",
              "</table>\n",
              "</div>"
            ],
            "text/plain": [
              "   movieId  ...                                       genres\n",
              "0        1  ...  Adventure|Animation|Children|Comedy|Fantasy\n",
              "1        2  ...                   Adventure|Children|Fantasy\n",
              "2        3  ...                               Comedy|Romance\n",
              "3        4  ...                         Comedy|Drama|Romance\n",
              "4        5  ...                                       Comedy\n",
              "\n",
              "[5 rows x 3 columns]"
            ]
          },
          "metadata": {
            "tags": []
          },
          "execution_count": 3
        }
      ]
    },
    {
      "cell_type": "code",
      "metadata": {
        "id": "G57O5w_Pyd9g"
      },
      "source": [
        "g = ratings.groupby('userId')['rating'].count()\n",
        "top_users = g.sort_values(ascending=False)[:15]"
      ],
      "execution_count": 4,
      "outputs": []
    },
    {
      "cell_type": "code",
      "metadata": {
        "id": "BTwjyvI2yeAo"
      },
      "source": [
        "g = ratings.groupby('movieId')['rating'].count()\n",
        "top_movies = g.sort_values(ascending=False)[:15]"
      ],
      "execution_count": 5,
      "outputs": []
    },
    {
      "cell_type": "code",
      "metadata": {
        "id": "IPs9MMJDyeEJ"
      },
      "source": [
        "top_r = ratings.join(top_users, rsuffix='_r', how='inner', on='userId')\n",
        "top_r = top_r.join(top_movies, rsuffix='_r', how='inner', on='movieId')"
      ],
      "execution_count": 6,
      "outputs": []
    },
    {
      "cell_type": "code",
      "metadata": {
        "colab": {
          "base_uri": "https://localhost:8080/",
          "height": 527
        },
        "id": "86EUC79dyeHU",
        "outputId": "58ccfcf3-562b-4f0d-959f-42537c8c7618"
      },
      "source": [
        "pd.crosstab(top_r.userId, top_r.movieId, top_r.rating, aggfunc=np.sum)"
      ],
      "execution_count": 7,
      "outputs": [
        {
          "output_type": "execute_result",
          "data": {
            "text/html": [
              "<div>\n",
              "<style scoped>\n",
              "    .dataframe tbody tr th:only-of-type {\n",
              "        vertical-align: middle;\n",
              "    }\n",
              "\n",
              "    .dataframe tbody tr th {\n",
              "        vertical-align: top;\n",
              "    }\n",
              "\n",
              "    .dataframe thead th {\n",
              "        text-align: right;\n",
              "    }\n",
              "</style>\n",
              "<table border=\"1\" class=\"dataframe\">\n",
              "  <thead>\n",
              "    <tr style=\"text-align: right;\">\n",
              "      <th>movieId</th>\n",
              "      <th>1</th>\n",
              "      <th>50</th>\n",
              "      <th>110</th>\n",
              "      <th>150</th>\n",
              "      <th>260</th>\n",
              "      <th>296</th>\n",
              "      <th>318</th>\n",
              "      <th>356</th>\n",
              "      <th>457</th>\n",
              "      <th>480</th>\n",
              "      <th>527</th>\n",
              "      <th>589</th>\n",
              "      <th>593</th>\n",
              "      <th>1210</th>\n",
              "      <th>2571</th>\n",
              "    </tr>\n",
              "    <tr>\n",
              "      <th>userId</th>\n",
              "      <th></th>\n",
              "      <th></th>\n",
              "      <th></th>\n",
              "      <th></th>\n",
              "      <th></th>\n",
              "      <th></th>\n",
              "      <th></th>\n",
              "      <th></th>\n",
              "      <th></th>\n",
              "      <th></th>\n",
              "      <th></th>\n",
              "      <th></th>\n",
              "      <th></th>\n",
              "      <th></th>\n",
              "      <th></th>\n",
              "    </tr>\n",
              "  </thead>\n",
              "  <tbody>\n",
              "    <tr>\n",
              "      <th>156</th>\n",
              "      <td>5.0</td>\n",
              "      <td>5.0</td>\n",
              "      <td>5.0</td>\n",
              "      <td>5.0</td>\n",
              "      <td>NaN</td>\n",
              "      <td>5.0</td>\n",
              "      <td>5.0</td>\n",
              "      <td>5.0</td>\n",
              "      <td>5.0</td>\n",
              "      <td>5.0</td>\n",
              "      <td>5.0</td>\n",
              "      <td>5.0</td>\n",
              "      <td>5.0</td>\n",
              "      <td>5.0</td>\n",
              "      <td>5.0</td>\n",
              "    </tr>\n",
              "    <tr>\n",
              "      <th>208</th>\n",
              "      <td>4.0</td>\n",
              "      <td>4.5</td>\n",
              "      <td>3.5</td>\n",
              "      <td>5.0</td>\n",
              "      <td>4.5</td>\n",
              "      <td>5.0</td>\n",
              "      <td>4.5</td>\n",
              "      <td>1.0</td>\n",
              "      <td>5.0</td>\n",
              "      <td>4.5</td>\n",
              "      <td>4.5</td>\n",
              "      <td>2.5</td>\n",
              "      <td>4.5</td>\n",
              "      <td>4.0</td>\n",
              "      <td>3.0</td>\n",
              "    </tr>\n",
              "    <tr>\n",
              "      <th>359</th>\n",
              "      <td>5.0</td>\n",
              "      <td>4.5</td>\n",
              "      <td>3.5</td>\n",
              "      <td>4.0</td>\n",
              "      <td>5.0</td>\n",
              "      <td>5.0</td>\n",
              "      <td>5.0</td>\n",
              "      <td>4.5</td>\n",
              "      <td>4.0</td>\n",
              "      <td>4.0</td>\n",
              "      <td>5.0</td>\n",
              "      <td>5.0</td>\n",
              "      <td>5.0</td>\n",
              "      <td>5.0</td>\n",
              "      <td>3.0</td>\n",
              "    </tr>\n",
              "    <tr>\n",
              "      <th>572</th>\n",
              "      <td>5.0</td>\n",
              "      <td>5.0</td>\n",
              "      <td>NaN</td>\n",
              "      <td>5.0</td>\n",
              "      <td>NaN</td>\n",
              "      <td>5.0</td>\n",
              "      <td>4.0</td>\n",
              "      <td>5.0</td>\n",
              "      <td>4.0</td>\n",
              "      <td>5.0</td>\n",
              "      <td>NaN</td>\n",
              "      <td>3.5</td>\n",
              "      <td>4.5</td>\n",
              "      <td>NaN</td>\n",
              "      <td>4.0</td>\n",
              "    </tr>\n",
              "    <tr>\n",
              "      <th>586</th>\n",
              "      <td>2.5</td>\n",
              "      <td>4.5</td>\n",
              "      <td>4.5</td>\n",
              "      <td>3.0</td>\n",
              "      <td>3.5</td>\n",
              "      <td>5.0</td>\n",
              "      <td>5.0</td>\n",
              "      <td>3.5</td>\n",
              "      <td>3.0</td>\n",
              "      <td>3.0</td>\n",
              "      <td>5.0</td>\n",
              "      <td>5.0</td>\n",
              "      <td>3.5</td>\n",
              "      <td>3.5</td>\n",
              "      <td>4.5</td>\n",
              "    </tr>\n",
              "    <tr>\n",
              "      <th>741</th>\n",
              "      <td>5.0</td>\n",
              "      <td>5.0</td>\n",
              "      <td>4.5</td>\n",
              "      <td>5.0</td>\n",
              "      <td>5.0</td>\n",
              "      <td>5.0</td>\n",
              "      <td>5.0</td>\n",
              "      <td>5.0</td>\n",
              "      <td>4.0</td>\n",
              "      <td>2.0</td>\n",
              "      <td>5.0</td>\n",
              "      <td>3.5</td>\n",
              "      <td>5.0</td>\n",
              "      <td>4.0</td>\n",
              "      <td>4.5</td>\n",
              "    </tr>\n",
              "    <tr>\n",
              "      <th>768</th>\n",
              "      <td>NaN</td>\n",
              "      <td>4.0</td>\n",
              "      <td>4.0</td>\n",
              "      <td>3.0</td>\n",
              "      <td>4.5</td>\n",
              "      <td>5.0</td>\n",
              "      <td>4.5</td>\n",
              "      <td>4.0</td>\n",
              "      <td>4.0</td>\n",
              "      <td>3.0</td>\n",
              "      <td>NaN</td>\n",
              "      <td>4.0</td>\n",
              "      <td>5.0</td>\n",
              "      <td>4.0</td>\n",
              "      <td>4.0</td>\n",
              "    </tr>\n",
              "    <tr>\n",
              "      <th>775</th>\n",
              "      <td>4.5</td>\n",
              "      <td>4.0</td>\n",
              "      <td>5.0</td>\n",
              "      <td>4.0</td>\n",
              "      <td>5.0</td>\n",
              "      <td>5.0</td>\n",
              "      <td>4.0</td>\n",
              "      <td>4.0</td>\n",
              "      <td>4.0</td>\n",
              "      <td>4.5</td>\n",
              "      <td>5.0</td>\n",
              "      <td>4.5</td>\n",
              "      <td>5.0</td>\n",
              "      <td>4.5</td>\n",
              "      <td>4.5</td>\n",
              "    </tr>\n",
              "    <tr>\n",
              "      <th>903</th>\n",
              "      <td>4.0</td>\n",
              "      <td>5.0</td>\n",
              "      <td>4.0</td>\n",
              "      <td>4.0</td>\n",
              "      <td>5.0</td>\n",
              "      <td>5.0</td>\n",
              "      <td>5.0</td>\n",
              "      <td>5.0</td>\n",
              "      <td>4.0</td>\n",
              "      <td>4.0</td>\n",
              "      <td>4.0</td>\n",
              "      <td>4.0</td>\n",
              "      <td>5.0</td>\n",
              "      <td>4.0</td>\n",
              "      <td>3.0</td>\n",
              "    </tr>\n",
              "    <tr>\n",
              "      <th>982</th>\n",
              "      <td>3.0</td>\n",
              "      <td>4.0</td>\n",
              "      <td>3.0</td>\n",
              "      <td>3.0</td>\n",
              "      <td>4.0</td>\n",
              "      <td>5.0</td>\n",
              "      <td>4.5</td>\n",
              "      <td>2.5</td>\n",
              "      <td>3.0</td>\n",
              "      <td>3.0</td>\n",
              "      <td>3.5</td>\n",
              "      <td>3.5</td>\n",
              "      <td>3.5</td>\n",
              "      <td>3.5</td>\n",
              "      <td>3.5</td>\n",
              "    </tr>\n",
              "    <tr>\n",
              "      <th>1244</th>\n",
              "      <td>4.0</td>\n",
              "      <td>4.0</td>\n",
              "      <td>4.5</td>\n",
              "      <td>4.0</td>\n",
              "      <td>5.0</td>\n",
              "      <td>3.5</td>\n",
              "      <td>4.0</td>\n",
              "      <td>5.0</td>\n",
              "      <td>4.0</td>\n",
              "      <td>4.5</td>\n",
              "      <td>4.0</td>\n",
              "      <td>5.0</td>\n",
              "      <td>4.5</td>\n",
              "      <td>4.5</td>\n",
              "      <td>5.0</td>\n",
              "    </tr>\n",
              "    <tr>\n",
              "      <th>1507</th>\n",
              "      <td>4.0</td>\n",
              "      <td>5.0</td>\n",
              "      <td>5.0</td>\n",
              "      <td>4.0</td>\n",
              "      <td>4.0</td>\n",
              "      <td>5.0</td>\n",
              "      <td>5.0</td>\n",
              "      <td>5.0</td>\n",
              "      <td>3.0</td>\n",
              "      <td>5.0</td>\n",
              "      <td>4.0</td>\n",
              "      <td>4.0</td>\n",
              "      <td>4.0</td>\n",
              "      <td>5.0</td>\n",
              "      <td>3.0</td>\n",
              "    </tr>\n",
              "    <tr>\n",
              "      <th>1763</th>\n",
              "      <td>4.0</td>\n",
              "      <td>4.0</td>\n",
              "      <td>NaN</td>\n",
              "      <td>NaN</td>\n",
              "      <td>4.0</td>\n",
              "      <td>4.0</td>\n",
              "      <td>4.5</td>\n",
              "      <td>NaN</td>\n",
              "      <td>3.5</td>\n",
              "      <td>3.5</td>\n",
              "      <td>5.0</td>\n",
              "      <td>4.5</td>\n",
              "      <td>4.0</td>\n",
              "      <td>1.5</td>\n",
              "      <td>4.5</td>\n",
              "    </tr>\n",
              "    <tr>\n",
              "      <th>1849</th>\n",
              "      <td>4.5</td>\n",
              "      <td>5.0</td>\n",
              "      <td>4.5</td>\n",
              "      <td>3.5</td>\n",
              "      <td>4.5</td>\n",
              "      <td>4.0</td>\n",
              "      <td>5.0</td>\n",
              "      <td>4.0</td>\n",
              "      <td>4.0</td>\n",
              "      <td>3.5</td>\n",
              "      <td>NaN</td>\n",
              "      <td>3.5</td>\n",
              "      <td>5.0</td>\n",
              "      <td>4.5</td>\n",
              "      <td>4.5</td>\n",
              "    </tr>\n",
              "    <tr>\n",
              "      <th>1966</th>\n",
              "      <td>4.5</td>\n",
              "      <td>4.0</td>\n",
              "      <td>5.0</td>\n",
              "      <td>4.0</td>\n",
              "      <td>4.0</td>\n",
              "      <td>4.0</td>\n",
              "      <td>4.0</td>\n",
              "      <td>4.0</td>\n",
              "      <td>4.0</td>\n",
              "      <td>4.0</td>\n",
              "      <td>5.0</td>\n",
              "      <td>4.5</td>\n",
              "      <td>4.0</td>\n",
              "      <td>4.0</td>\n",
              "      <td>4.0</td>\n",
              "    </tr>\n",
              "  </tbody>\n",
              "</table>\n",
              "</div>"
            ],
            "text/plain": [
              "movieId  1     50    110   150   260   296   ...  480   527   589   593   1210  2571\n",
              "userId                                       ...                                    \n",
              "156       5.0   5.0   5.0   5.0   NaN   5.0  ...   5.0   5.0   5.0   5.0   5.0   5.0\n",
              "208       4.0   4.5   3.5   5.0   4.5   5.0  ...   4.5   4.5   2.5   4.5   4.0   3.0\n",
              "359       5.0   4.5   3.5   4.0   5.0   5.0  ...   4.0   5.0   5.0   5.0   5.0   3.0\n",
              "572       5.0   5.0   NaN   5.0   NaN   5.0  ...   5.0   NaN   3.5   4.5   NaN   4.0\n",
              "586       2.5   4.5   4.5   3.0   3.5   5.0  ...   3.0   5.0   5.0   3.5   3.5   4.5\n",
              "741       5.0   5.0   4.5   5.0   5.0   5.0  ...   2.0   5.0   3.5   5.0   4.0   4.5\n",
              "768       NaN   4.0   4.0   3.0   4.5   5.0  ...   3.0   NaN   4.0   5.0   4.0   4.0\n",
              "775       4.5   4.0   5.0   4.0   5.0   5.0  ...   4.5   5.0   4.5   5.0   4.5   4.5\n",
              "903       4.0   5.0   4.0   4.0   5.0   5.0  ...   4.0   4.0   4.0   5.0   4.0   3.0\n",
              "982       3.0   4.0   3.0   3.0   4.0   5.0  ...   3.0   3.5   3.5   3.5   3.5   3.5\n",
              "1244      4.0   4.0   4.5   4.0   5.0   3.5  ...   4.5   4.0   5.0   4.5   4.5   5.0\n",
              "1507      4.0   5.0   5.0   4.0   4.0   5.0  ...   5.0   4.0   4.0   4.0   5.0   3.0\n",
              "1763      4.0   4.0   NaN   NaN   4.0   4.0  ...   3.5   5.0   4.5   4.0   1.5   4.5\n",
              "1849      4.5   5.0   4.5   3.5   4.5   4.0  ...   3.5   NaN   3.5   5.0   4.5   4.5\n",
              "1966      4.5   4.0   5.0   4.0   4.0   4.0  ...   4.0   5.0   4.5   4.0   4.0   4.0\n",
              "\n",
              "[15 rows x 15 columns]"
            ]
          },
          "metadata": {
            "tags": []
          },
          "execution_count": 7
        }
      ]
    },
    {
      "cell_type": "code",
      "metadata": {
        "id": "DOggfvA9yeKg"
      },
      "source": [
        "user_enc = LabelEncoder()\n",
        "ratings['user'] = user_enc.fit_transform(ratings['userId'].values)\n",
        "n_users = ratings['user'].nunique()"
      ],
      "execution_count": 8,
      "outputs": []
    },
    {
      "cell_type": "code",
      "metadata": {
        "id": "wZx_b3l_yeNx"
      },
      "source": [
        "item_enc = LabelEncoder()\n",
        "ratings['movie'] = item_enc.fit_transform(ratings['movieId'].values)\n",
        "n_movies = ratings['movie'].nunique()"
      ],
      "execution_count": 9,
      "outputs": []
    },
    {
      "cell_type": "code",
      "metadata": {
        "colab": {
          "base_uri": "https://localhost:8080/"
        },
        "id": "tCteHbyByeRA",
        "outputId": "e519d0a6-9cc3-4e8b-f903-d10cabbd046f"
      },
      "source": [
        "ratings['rating'] = ratings['rating'].values.astype(np.float32)\n",
        "min_rating = min(ratings['rating'])\n",
        "max_rating = max(ratings['rating'])\n",
        "n_users, n_movies, min_rating, max_rating"
      ],
      "execution_count": 10,
      "outputs": [
        {
          "output_type": "execute_result",
          "data": {
            "text/plain": [
              "(2184, 11122, 0.5, 5.0)"
            ]
          },
          "metadata": {
            "tags": []
          },
          "execution_count": 10
        }
      ]
    },
    {
      "cell_type": "code",
      "metadata": {
        "id": "2eyQ5VFcyeXQ"
      },
      "source": [
        "X = ratings[['user', 'movie']].values\n",
        "y = ratings['rating'].values"
      ],
      "execution_count": 11,
      "outputs": []
    },
    {
      "cell_type": "code",
      "metadata": {
        "colab": {
          "base_uri": "https://localhost:8080/"
        },
        "id": "Lh_VaF7149F8",
        "outputId": "ae58bab1-8553-4d42-89f5-f8b1e0cca2c0"
      },
      "source": [
        "X_train, X_test, y_train, y_test = train_test_split(X, y, test_size=0.1, random_state=42)\n",
        "X_train.shape, X_test.shape, y_train.shape, y_test.shape"
      ],
      "execution_count": 12,
      "outputs": [
        {
          "output_type": "execute_result",
          "data": {
            "text/plain": [
              "((287713, 2), (31969, 2), (287713,), (31969,))"
            ]
          },
          "metadata": {
            "tags": []
          },
          "execution_count": 12
        }
      ]
    },
    {
      "cell_type": "code",
      "metadata": {
        "id": "fnt3TejH49JJ"
      },
      "source": [
        "n_factors = 50\n",
        "X_train_array = [X_train[:, 0], X_train[:, 1]]\n",
        "X_test_array = [X_test[:, 0], X_test[:, 1]]"
      ],
      "execution_count": 13,
      "outputs": []
    },
    {
      "cell_type": "code",
      "metadata": {
        "id": "MjkKEkjf49MR"
      },
      "source": [
        "from keras.models import Model\n",
        "from keras.layers import Input, Reshape, Dot\n",
        "from keras.layers.embeddings import Embedding\n",
        "from keras.optimizers import Adam\n",
        "from keras.regularizers import l2"
      ],
      "execution_count": 14,
      "outputs": []
    },
    {
      "cell_type": "code",
      "metadata": {
        "id": "Jys4We3I49Ph"
      },
      "source": [
        "def RecommenderV1(n_users, n_movies, n_factors):\n",
        "    user = Input(shape=(1,))\n",
        "    u = Embedding(n_users, n_factors, embeddings_initializer='he_normal',embeddings_regularizer=l2(1e-6))(user)\n",
        "    u = Reshape((n_factors,))(u)\n",
        "    movie = Input(shape=(1,))\n",
        "    m = Embedding(n_movies, n_factors, embeddings_initializer='he_normal',embeddings_regularizer=l2(1e-6))(movie)\n",
        "    m = Reshape((n_factors,))(m)\n",
        "    x = Dot(axes=1)([u, m])\n",
        "    model = Model(inputs=[user, movie], outputs=x)\n",
        "    opt = Adam(lr=0.001)\n",
        "    model.compile(loss='mean_squared_error', optimizer=opt)\n",
        "    return model"
      ],
      "execution_count": 15,
      "outputs": []
    },
    {
      "cell_type": "code",
      "metadata": {
        "colab": {
          "base_uri": "https://localhost:8080/"
        },
        "id": "Ylf_52FR49Sz",
        "outputId": "ea5edebb-75d6-4579-f755-c12c401bae53"
      },
      "source": [
        "model = RecommenderV1(n_users, n_movies, n_factors)\n",
        "model.summary()"
      ],
      "execution_count": 16,
      "outputs": [
        {
          "output_type": "stream",
          "text": [
            "Model: \"model\"\n",
            "__________________________________________________________________________________________________\n",
            "Layer (type)                    Output Shape         Param #     Connected to                     \n",
            "==================================================================================================\n",
            "input_1 (InputLayer)            [(None, 1)]          0                                            \n",
            "__________________________________________________________________________________________________\n",
            "input_2 (InputLayer)            [(None, 1)]          0                                            \n",
            "__________________________________________________________________________________________________\n",
            "embedding (Embedding)           (None, 1, 50)        109200      input_1[0][0]                    \n",
            "__________________________________________________________________________________________________\n",
            "embedding_1 (Embedding)         (None, 1, 50)        556100      input_2[0][0]                    \n",
            "__________________________________________________________________________________________________\n",
            "reshape (Reshape)               (None, 50)           0           embedding[0][0]                  \n",
            "__________________________________________________________________________________________________\n",
            "reshape_1 (Reshape)             (None, 50)           0           embedding_1[0][0]                \n",
            "__________________________________________________________________________________________________\n",
            "dot (Dot)                       (None, 1)            0           reshape[0][0]                    \n",
            "                                                                 reshape_1[0][0]                  \n",
            "==================================================================================================\n",
            "Total params: 665,300\n",
            "Trainable params: 665,300\n",
            "Non-trainable params: 0\n",
            "__________________________________________________________________________________________________\n"
          ],
          "name": "stdout"
        },
        {
          "output_type": "stream",
          "text": [
            "/usr/local/lib/python3.7/dist-packages/tensorflow/python/keras/optimizer_v2/optimizer_v2.py:375: UserWarning: The `lr` argument is deprecated, use `learning_rate` instead.\n",
            "  \"The `lr` argument is deprecated, use `learning_rate` instead.\")\n"
          ],
          "name": "stderr"
        }
      ]
    },
    {
      "cell_type": "code",
      "metadata": {
        "colab": {
          "base_uri": "https://localhost:8080/"
        },
        "id": "n6LwbP4r49V6",
        "outputId": "3dcc03f8-c157-4e5c-c907-6b0ca0946499"
      },
      "source": [
        "history = model.fit(x=X_train_array, y=y_train, batch_size=64, epochs=5,verbose=1, validation_data=(X_test_array, y_test))"
      ],
      "execution_count": 17,
      "outputs": [
        {
          "output_type": "stream",
          "text": [
            "Epoch 1/5\n",
            "4496/4496 [==============================] - 38s 5ms/step - loss: 8.8935 - val_loss: 1.3223\n",
            "Epoch 2/5\n",
            "4496/4496 [==============================] - 23s 5ms/step - loss: 1.1166 - val_loss: 1.0102\n",
            "Epoch 3/5\n",
            "4496/4496 [==============================] - 23s 5ms/step - loss: 0.8739 - val_loss: 0.9446\n",
            "Epoch 4/5\n",
            "4496/4496 [==============================] - 23s 5ms/step - loss: 0.7785 - val_loss: 0.9143\n",
            "Epoch 5/5\n",
            "4496/4496 [==============================] - 23s 5ms/step - loss: 0.7163 - val_loss: 0.8984\n"
          ],
          "name": "stdout"
        }
      ]
    },
    {
      "cell_type": "code",
      "metadata": {
        "id": "cLYKPfba49ZD"
      },
      "source": [
        "pred = model.predict(X_test_array)"
      ],
      "execution_count": 18,
      "outputs": []
    },
    {
      "cell_type": "code",
      "metadata": {
        "id": "1S1AlWuC6JBM",
        "colab": {
          "base_uri": "https://localhost:8080/"
        },
        "outputId": "83aea604-201f-4b5b-e0c1-f6ddf059ba08"
      },
      "source": [
        "pred"
      ],
      "execution_count": 19,
      "outputs": [
        {
          "output_type": "execute_result",
          "data": {
            "text/plain": [
              "array([[3.149655 ],\n",
              "       [5.1121593],\n",
              "       [3.1296058],\n",
              "       ...,\n",
              "       [4.555512 ],\n",
              "       [3.2309399],\n",
              "       [2.0783477]], dtype=float32)"
            ]
          },
          "metadata": {
            "tags": []
          },
          "execution_count": 19
        }
      ]
    },
    {
      "cell_type": "code",
      "metadata": {
        "id": "Iu1NW8BL6JEQ",
        "colab": {
          "base_uri": "https://localhost:8080/"
        },
        "outputId": "dfe52f62-e4e4-4f6c-adc7-d32ebacf60a1"
      },
      "source": [
        "X_test_array"
      ],
      "execution_count": 20,
      "outputs": [
        {
          "output_type": "execute_result",
          "data": {
            "text/plain": [
              "[array([ 207, 1175,  699, ..., 1301, 2094,  393]),\n",
              " array([10277,  1117,   572, ...,    57,  3424,   417])]"
            ]
          },
          "metadata": {
            "tags": []
          },
          "execution_count": 20
        }
      ]
    },
    {
      "cell_type": "code",
      "metadata": {
        "id": "8bpq9SvP6JHp"
      },
      "source": [
        "from keras.layers import Add, Activation, Lambda"
      ],
      "execution_count": 21,
      "outputs": []
    },
    {
      "cell_type": "code",
      "metadata": {
        "id": "tTeivRTu6JLO"
      },
      "source": [
        "class EmbeddingLayer:\n",
        "    def __init__(self, n_items, n_factors):\n",
        "        self.n_items = n_items\n",
        "        self.n_factors = n_factors\n",
        "    def __call__(self, x):\n",
        "        x = Embedding(self.n_items, self.n_factors, embeddings_initializer='he_normal',embeddings_regularizer=l2(0.0003))(x)\n",
        "        x = Reshape((self.n_factors,))(x)\n",
        "        return x"
      ],
      "execution_count": 35,
      "outputs": []
    },
    {
      "cell_type": "code",
      "metadata": {
        "id": "H9P65_unXnKE"
      },
      "source": [
        "def RecommenderV2(n_users, n_movies, n_factors, min_rating, max_rating):\n",
        "    user = Input(shape=(1,))\n",
        "    u = EmbeddingLayer(n_users, n_factors)(user)\n",
        "    ub = EmbeddingLayer(n_users, 1)(user)\n",
        "    \n",
        "    movie = Input(shape=(1,))\n",
        "    m = EmbeddingLayer(n_movies, n_factors)(movie)\n",
        "    mb = EmbeddingLayer(n_movies, 1)(movie)\n",
        "    x = Dot(axes=1)([u, m])\n",
        "    x = Add()([x, ub, mb])\n",
        "    x = Activation('softmax')(x)\n",
        "    x = Lambda(lambda x: x * (max_rating - min_rating) + min_rating)(x)\n",
        "    model = Model(inputs=[user, movie], outputs=x)\n",
        "    opt = Adam(lr=0.0003)\n",
        "    model.compile(loss='mean_squared_error', optimizer=opt, metrics=['accuracy'])\n",
        "    return model"
      ],
      "execution_count": 36,
      "outputs": []
    },
    {
      "cell_type": "code",
      "metadata": {
        "colab": {
          "base_uri": "https://localhost:8080/"
        },
        "id": "xcSNdK3-XnRc",
        "outputId": "e0cadbff-836f-48cd-fa7d-8bf0b476b0c8"
      },
      "source": [
        "model = RecommenderV2(n_users, n_movies, n_factors, min_rating, max_rating)\n",
        "model.summary()"
      ],
      "execution_count": 37,
      "outputs": [
        {
          "output_type": "stream",
          "text": [
            "Model: \"model_3\"\n",
            "__________________________________________________________________________________________________\n",
            "Layer (type)                    Output Shape         Param #     Connected to                     \n",
            "==================================================================================================\n",
            "input_7 (InputLayer)            [(None, 1)]          0                                            \n",
            "__________________________________________________________________________________________________\n",
            "input_8 (InputLayer)            [(None, 1)]          0                                            \n",
            "__________________________________________________________________________________________________\n",
            "embedding_10 (Embedding)        (None, 1, 50)        109200      input_7[0][0]                    \n",
            "__________________________________________________________________________________________________\n",
            "embedding_12 (Embedding)        (None, 1, 50)        556100      input_8[0][0]                    \n",
            "__________________________________________________________________________________________________\n",
            "reshape_10 (Reshape)            (None, 50)           0           embedding_10[0][0]               \n",
            "__________________________________________________________________________________________________\n",
            "reshape_12 (Reshape)            (None, 50)           0           embedding_12[0][0]               \n",
            "__________________________________________________________________________________________________\n",
            "embedding_11 (Embedding)        (None, 1, 1)         2184        input_7[0][0]                    \n",
            "__________________________________________________________________________________________________\n",
            "embedding_13 (Embedding)        (None, 1, 1)         11122       input_8[0][0]                    \n",
            "__________________________________________________________________________________________________\n",
            "dot_3 (Dot)                     (None, 1)            0           reshape_10[0][0]                 \n",
            "                                                                 reshape_12[0][0]                 \n",
            "__________________________________________________________________________________________________\n",
            "reshape_11 (Reshape)            (None, 1)            0           embedding_11[0][0]               \n",
            "__________________________________________________________________________________________________\n",
            "reshape_13 (Reshape)            (None, 1)            0           embedding_13[0][0]               \n",
            "__________________________________________________________________________________________________\n",
            "add_2 (Add)                     (None, 1)            0           dot_3[0][0]                      \n",
            "                                                                 reshape_11[0][0]                 \n",
            "                                                                 reshape_13[0][0]                 \n",
            "__________________________________________________________________________________________________\n",
            "activation_2 (Activation)       (None, 1)            0           add_2[0][0]                      \n",
            "__________________________________________________________________________________________________\n",
            "lambda_2 (Lambda)               (None, 1)            0           activation_2[0][0]               \n",
            "==================================================================================================\n",
            "Total params: 678,606\n",
            "Trainable params: 678,606\n",
            "Non-trainable params: 0\n",
            "__________________________________________________________________________________________________\n"
          ],
          "name": "stdout"
        },
        {
          "output_type": "stream",
          "text": [
            "/usr/local/lib/python3.7/dist-packages/tensorflow/python/keras/optimizer_v2/optimizer_v2.py:375: UserWarning: The `lr` argument is deprecated, use `learning_rate` instead.\n",
            "  \"The `lr` argument is deprecated, use `learning_rate` instead.\")\n"
          ],
          "name": "stderr"
        }
      ]
    },
    {
      "cell_type": "code",
      "metadata": {
        "colab": {
          "base_uri": "https://localhost:8080/"
        },
        "id": "gDI1nkuyXnUl",
        "outputId": "bfd906ed-e544-4ac1-d3bb-331176a4b781"
      },
      "source": [
        "history = model.fit(x=X_train_array, y=y_train, batch_size=8, epochs=15,verbose=1, validation_data=(X_test_array, y_test))"
      ],
      "execution_count": 39,
      "outputs": [
        {
          "output_type": "stream",
          "text": [
            "Epoch 1/15\n",
            "35965/35965 [==============================] - 200s 6ms/step - loss: 3.3537 - accuracy: 0.0358 - val_loss: 3.3245 - val_accuracy: 0.0361\n",
            "Epoch 2/15\n",
            "35965/35965 [==============================] - 202s 6ms/step - loss: 3.3537 - accuracy: 0.0358 - val_loss: 3.3245 - val_accuracy: 0.0361\n",
            "Epoch 3/15\n",
            "35965/35965 [==============================] - 201s 6ms/step - loss: 3.3537 - accuracy: 0.0358 - val_loss: 3.3245 - val_accuracy: 0.0361\n",
            "Epoch 4/15\n",
            "35965/35965 [==============================] - 201s 6ms/step - loss: 3.3537 - accuracy: 0.0358 - val_loss: 3.3245 - val_accuracy: 0.0361\n",
            "Epoch 5/15\n",
            "35965/35965 [==============================] - 198s 6ms/step - loss: 3.3537 - accuracy: 0.0358 - val_loss: 3.3245 - val_accuracy: 0.0361\n",
            "Epoch 6/15\n",
            "35965/35965 [==============================] - 196s 5ms/step - loss: 3.3537 - accuracy: 0.0358 - val_loss: 3.3245 - val_accuracy: 0.0361\n",
            "Epoch 7/15\n",
            "35965/35965 [==============================] - 197s 5ms/step - loss: 3.3537 - accuracy: 0.0358 - val_loss: 3.3245 - val_accuracy: 0.0361\n",
            "Epoch 8/15\n",
            "35965/35965 [==============================] - 198s 5ms/step - loss: 3.3537 - accuracy: 0.0358 - val_loss: 3.3245 - val_accuracy: 0.0361\n",
            "Epoch 9/15\n",
            "35965/35965 [==============================] - 196s 5ms/step - loss: 3.3537 - accuracy: 0.0358 - val_loss: 3.3245 - val_accuracy: 0.0361\n",
            "Epoch 10/15\n",
            "35965/35965 [==============================] - 195s 5ms/step - loss: 3.3537 - accuracy: 0.0358 - val_loss: 3.3245 - val_accuracy: 0.0361\n",
            "Epoch 11/15\n",
            "35965/35965 [==============================] - 196s 5ms/step - loss: 3.3537 - accuracy: 0.0358 - val_loss: 3.3245 - val_accuracy: 0.0361\n",
            "Epoch 12/15\n",
            "35965/35965 [==============================] - 195s 5ms/step - loss: 3.3537 - accuracy: 0.0358 - val_loss: 3.3245 - val_accuracy: 0.0361\n",
            "Epoch 13/15\n",
            "35965/35965 [==============================] - 195s 5ms/step - loss: 3.3537 - accuracy: 0.0358 - val_loss: 3.3245 - val_accuracy: 0.0361\n",
            "Epoch 14/15\n",
            "35965/35965 [==============================] - 195s 5ms/step - loss: 3.3537 - accuracy: 0.0358 - val_loss: 3.3245 - val_accuracy: 0.0361\n",
            "Epoch 15/15\n",
            "35965/35965 [==============================] - 194s 5ms/step - loss: 3.3537 - accuracy: 0.0358 - val_loss: 3.3245 - val_accuracy: 0.0361\n"
          ],
          "name": "stdout"
        }
      ]
    },
    {
      "cell_type": "code",
      "metadata": {
        "id": "njLX8P7XXnXg"
      },
      "source": [
        ""
      ],
      "execution_count": null,
      "outputs": []
    },
    {
      "cell_type": "code",
      "metadata": {
        "id": "l-6m7Ft4XnbE"
      },
      "source": [
        ""
      ],
      "execution_count": null,
      "outputs": []
    }
  ]
}